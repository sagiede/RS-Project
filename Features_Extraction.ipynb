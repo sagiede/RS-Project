{
 "cells": [
  {
   "cell_type": "code",
   "execution_count": null,
   "metadata": {},
   "outputs": [],
   "source": [
    "import os\n",
    "import json\n",
    "import pandas as pd\n",
    "import numpy as np\n",
    "import collections\n",
    "import matplotlib.pyplot as plt\n",
    "from sklearn.feature_extraction.text import TfidfVectorizer\n",
    "from sklearn.decomposition import TruncatedSVD\n"
   ]
  },
  {
   "cell_type": "code",
   "execution_count": null,
   "metadata": {},
   "outputs": [],
   "source": [
    "## Choose Model Architecture to Extract Feautres\n",
    "\n",
    "# architecture = 'U-CFN'\n",
    "architecture = 'I-CFN'\n",
    "\n",
    "## Choose Dataset to Extract Feautres\n",
    "\n",
    "data_to_preprocess = 'amazon_video_games'\n",
    "# data_to_preprocess = 'amazon_movies'\n",
    "# data_to_preprocess = 'movielens1m'"
   ]
  },
  {
   "cell_type": "code",
   "execution_count": null,
   "metadata": {},
   "outputs": [],
   "source": [
    "\n",
    "# # # # # Amazon Video Games\n",
    "if data_to_preprocess == 'amazon_video_games':\n",
    "    ratings_df = pd.read_json('data/reviews_Video_Games.json', lines=True)\n",
    "    data_path = 'data/amazon_video_games'\n",
    "    user_column = 'reviewerID'\n",
    "    item_column = 'asin'\n",
    "    rating_column = 'overall'\n",
    "\n",
    "# # # # # Amazon Tv & Movies\n",
    "if data_to_preprocess == 'amazon_movies':\n",
    "    ratings_df = pd.read_json('data/reviews_Movies_and_TV.json', lines=True)\n",
    "    data_path = 'data/amazon_movies'\n",
    "    user_column = 'reviewerID'\n",
    "    item_column = 'asin'\n",
    "    rating_column = 'overall'\n",
    "\n",
    "# # # # # MovieLense 1m\n",
    "if data_to_preprocess == 'movielens1m':\n",
    "    ratings_df = pd.read_csv('data/ml-1m/ratings.dat', sep='::', names=['user', 'item', 'rating', 'time'])\n",
    "    data_path = 'data/ml-1m'\n",
    "    user_column = 'user'\n",
    "    item_column = 'item'\n",
    "    rating_column = 'rating'"
   ]
  },
  {
   "cell_type": "code",
   "execution_count": null,
   "metadata": {},
   "outputs": [],
   "source": [
    "#Load Data\n",
    "\n",
    "with open(f'{data_path}/users_map.json', 'r') as f:\n",
    "    users_map = json.load(f)\n",
    "    \n",
    "with open(f'{data_path}/items_map.json', 'r') as f:\n",
    "    items_map = json.load(f)"
   ]
  },
  {
   "cell_type": "code",
   "execution_count": null,
   "metadata": {},
   "outputs": [],
   "source": [
    "\n",
    "# # # # Amazon data\n",
    "if data_to_preprocess == 'amazon_video_games' or data_to_preprocess == 'amazon_movies': \n",
    "    u_ratings_df = pd.read_csv(f'{data_path}/u_train_df.csv')\n",
    "    i_ratings_df = pd.read_csv(f'{data_path}/i_train_df.csv')\n",
    "    u_ratings_df = u_ratings_df.replace(np.nan, '', regex=True)\n",
    "    i_ratings_df = i_ratings_df.replace(np.nan, '', regex=True)\n",
    "\n",
    "# # # # # Movielens data\n",
    "if data_to_preprocess == 'movielens1m':\n",
    "    ratings_df = pd.read_csv('data/ml-1m/ratings.dat', sep='::', names=['user', 'item', 'rating', 'time'])\n",
    "    movies_meta_df = pd.read_csv('data/ml-1m/movies.dat', sep='::', names=['item', 'movie_name', 'genre'])\n",
    "    users_meta__df = pd.read_csv('data/ml-1m/users.dat', sep='::', names=['user', 'gender', 'age', 'occupation', 'zip-code'])"
   ]
  },
  {
   "cell_type": "markdown",
   "metadata": {},
   "source": [
    "# 1. Amazon Data Features"
   ]
  },
  {
   "cell_type": "markdown",
   "metadata": {},
   "source": [
    "### Aggregate reviews together for each user/item"
   ]
  },
  {
   "cell_type": "code",
   "execution_count": null,
   "metadata": {},
   "outputs": [],
   "source": [
    "if architecture == 'U-CFN':\n",
    "    ratings_df = u_ratings_df\n",
    "if architecture == 'I-CFN':\n",
    "    ratings_df = i_ratings_df"
   ]
  },
  {
   "cell_type": "code",
   "execution_count": null,
   "metadata": {},
   "outputs": [],
   "source": [
    "\n",
    "users_reviews_text = {}\n",
    "users_reviews_titles = {}\n",
    "\n",
    "for user, user_df in ratings_df.groupby([user_column]):\n",
    "    users_reviews_text[user] = '\\n'.join(list(user_df['reviewText']))\n",
    "    users_reviews_titles[user] = '\\n'.join(list(user_df['summary']))\n",
    "\n",
    "items_reviews_text = {}\n",
    "items_reviews_titles = {}\n",
    "\n",
    "for item, item_df in ratings_df.groupby([item_column]):\n",
    "    items_reviews_text[item] = '\\n'.join(list(item_df['reviewText']))\n",
    "    items_reviews_titles[item] = '\\n'.join(list(item_df['summary']))"
   ]
  },
  {
   "cell_type": "markdown",
   "metadata": {},
   "source": [
    "### Create TF-IDF features from reviews"
   ]
  },
  {
   "cell_type": "code",
   "execution_count": null,
   "metadata": {},
   "outputs": [],
   "source": [
    "def create_tf_idf_vectors_from_dict(reviews_dict, index_map, dim):\n",
    "    \n",
    "    vectorizer = TfidfVectorizer()\n",
    "    svd = TruncatedSVD(algorithm='randomized', n_components=dim)\n",
    "    \n",
    "    corpus = list(reviews_dict.values())\n",
    "    tf_idf_features = vectorizer.fit_transform(corpus)\n",
    "    tf_idf_features = svd.fit_transform(tf_idf_features)\n",
    "    table_keys = [index_map[key] for key in reviews_dict.keys()]\n",
    "    od = collections.OrderedDict(sorted(zip(table_keys, tf_idf_features)))\n",
    "    return np.array(list(od.values()))\n",
    "    \n",
    "\n",
    "dim = 100\n",
    "\n",
    "if architecture == 'U-CFN':\n",
    "    users_text_vectors_small = create_tf_idf_vectors_from_dict(users_reviews_text, users_map, dim)\n",
    "    users_titles_vectors_small = create_tf_idf_vectors_from_dict(users_reviews_titles, users_map, dim)\n",
    "if architecture == 'I-CFN':\n",
    "    items_text_vectors_small = create_tf_idf_vectors_from_dict(items_reviews_text, items_map, dim)\n",
    "    items_titles_vectors_small = create_tf_idf_vectors_from_dict(items_reviews_titles, items_map, dim)\n",
    "\n",
    "dim = 600\n",
    "\n",
    "if architecture == 'U-CFN':\n",
    "    items_text_vectors_big = create_tf_idf_vectors_from_dict(items_reviews_text, items_map, dim)\n",
    "    items_titles_vectors_big = create_tf_idf_vectors_from_dict(items_reviews_titles, items_map, dim)\n",
    "if architecture == 'I-CFN':\n",
    "    users_text_vectors_big = create_tf_idf_vectors_from_dict(users_reviews_text, users_map, dim)\n",
    "    users_titles_vectors_big = create_tf_idf_vectors_from_dict(users_reviews_titles, users_map, dim)\n"
   ]
  },
  {
   "cell_type": "markdown",
   "metadata": {},
   "source": [
    "### Save features for model use"
   ]
  },
  {
   "cell_type": "code",
   "execution_count": null,
   "metadata": {},
   "outputs": [],
   "source": [
    "if architecture == 'U-CFN':\n",
    "    \n",
    "    np.save(f'{data_path}/users_text_vectors_small.npy',users_text_vectors_small)\n",
    "    np.save(f'{data_path}/users_titles_vectors_small.npy',users_titles_vectors_small)\n",
    "    \n",
    "    np.save(f'{data_path}/items_text_vectors_big.npy',items_text_vectors_big)\n",
    "    np.save(f'{data_path}/items_titles_vectors_big.npy',items_titles_vectors_big)\n",
    "    \n",
    "if architecture == 'I-CFN':\n",
    "\n",
    "    np.save(f'{data_path}/items_text_vectors_small.npy',items_text_vectors_small)\n",
    "    np.save(f'{data_path}/items_titles_vectors_small.npy',items_titles_vectors_small)\n",
    "\n",
    "    np.save(f'{data_path}/users_text_vectors_big.npy',users_text_vectors_big)\n",
    "    np.save(f'{data_path}/users_titles_vectors_big.npy',users_titles_vectors_big)\n"
   ]
  },
  {
   "cell_type": "markdown",
   "metadata": {},
   "source": [
    "# 2. Movielens Data Features"
   ]
  },
  {
   "cell_type": "code",
   "execution_count": null,
   "metadata": {},
   "outputs": [],
   "source": [
    "from sklearn.preprocessing import OneHotEncoder\n",
    "from sklearn.preprocessing import MultiLabelBinarizer\n",
    "\n",
    "\n",
    "#Extract user features\n",
    "user_feat_encoder = OneHotEncoder(handle_unknown='ignore')\n",
    "user_feat_encoder.fit_transform(users_meta__df[['gender', 'age', 'occupation']])\n",
    "user_features = pd.DataFrame(user_feat_encoder.fit_transform(users_meta__df[['gender', 'age', 'occupation']]).toarray())\n",
    "user_features = np.array(user_features)\n",
    "# user_feat_encoder.inverse_transform(user_features)\n",
    "\n",
    "\n",
    "#Extract item features\n",
    "mlb = MultiLabelBinarizer()\n",
    "\n",
    "movies_meta_df['genre'] = movies_meta_df['genre'].apply(lambda s: s.split('|'))\n",
    "transformed_genres = mlb.fit_transform(movies_meta_df['genre'])\n",
    "\n",
    "items_features_dict = {}\n",
    "for (_, row_df), genre_row in zip(movies_meta_df.iterrows(), transformed_genres):\n",
    "    item_id = str(row_df['item'])\n",
    "    if item_id in items_map:\n",
    "        items_features_dict[items_map[item_id]] = genre_row\n",
    "\n",
    "n_items = len(items_features_dict)\n",
    "n_features = len(list(items_features_dict.values())[0])\n",
    "items_features = np.zeros((n_items, n_features))\n",
    "for row_idx, fv in items_features_dict.items():\n",
    "    items_features[row_idx] = fv\n"
   ]
  },
  {
   "cell_type": "markdown",
   "metadata": {},
   "source": [
    "### Save features for model use"
   ]
  },
  {
   "cell_type": "code",
   "execution_count": null,
   "metadata": {},
   "outputs": [],
   "source": [
    "np.save(f'{data_path}/users_features.npy',user_features)\n",
    "np.save(f'{data_path}/items_features.npy',items_features)"
   ]
  }
 ],
 "metadata": {
  "kernelspec": {
   "display_name": "Python 3",
   "language": "python",
   "name": "python3"
  },
  "language_info": {
   "codemirror_mode": {
    "name": "ipython",
    "version": 3
   },
   "file_extension": ".py",
   "mimetype": "text/x-python",
   "name": "python",
   "nbconvert_exporter": "python",
   "pygments_lexer": "ipython3",
   "version": "3.7.3"
  }
 },
 "nbformat": 4,
 "nbformat_minor": 4
}
